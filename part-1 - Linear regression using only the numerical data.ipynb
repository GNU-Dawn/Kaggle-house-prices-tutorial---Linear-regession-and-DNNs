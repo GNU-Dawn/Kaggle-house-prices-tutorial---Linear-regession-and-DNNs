{
 "cells": [
  {
   "cell_type": "markdown",
   "metadata": {},
   "source": [
    "**Part 1: Linear regression using only the numerical data**\n",
    "\n",
    "In the part 0 we did some basic prepossing. We saw that there were 34 numerical features, and 45 categorical, for a total of 79 features. In this part we perform a linear regression using only the 34 numerical features. We begin by reproducing the basic data preprocessing in part 0, ignoring the normalisation step that theoretically has no effect for linear regression. We also clean up the code a little, removing the unnecessary parts.\n",
    "\n",
    "**Step 1: Reproduce steps 1-4 of part 0**"
   ]
  },
  {
   "cell_type": "code",
   "execution_count": 1,
   "metadata": {},
   "outputs": [
    {
     "name": "stdout",
     "output_type": "stream",
     "text": [
      "34\n",
      "45\n"
     ]
    },
    {
     "name": "stderr",
     "output_type": "stream",
     "text": [
      "/home/tmetcalfe/Documents/machine-learning/anaconda3/envs/house-prices-tensorflow/lib/python3.7/site-packages/ipykernel_launcher.py:83: SettingWithCopyWarning: \n",
      "A value is trying to be set on a copy of a slice from a DataFrame.\n",
      "Try using .loc[row_indexer,col_indexer] = value instead\n",
      "\n",
      "See the caveats in the documentation: https://pandas.pydata.org/pandas-docs/stable/user_guide/indexing.html#returning-a-view-versus-a-copy\n"
     ]
    }
   ],
   "source": [
    "import pandas as pd\n",
    "import numpy as np\n",
    "\n",
    "# Import train and test data, save train SalePrice and test Id separately, remove train SalePrice and train and test Id\n",
    "train = pd.read_csv('input/train.csv')\n",
    "test = pd.read_csv('input/test.csv')\n",
    "train.drop(['Id'], axis=1, inplace=True)\n",
    "submission = test[['Id']]\n",
    "test.drop(['Id'], axis=1, inplace=True)\n",
    "train_sale_price = train[['SalePrice']]\n",
    "train.drop(['SalePrice'], axis=1, inplace=True)\n",
    "\n",
    "# Split features/columns into numerical and categorical lists\n",
    "numeric_features_columns = list(train.select_dtypes(include=[np.number]).columns)\n",
    "categorical_features_list_to_remove_from_numerical = ['MSSubClass', 'MoSold']\n",
    "numeric_features_columns = list(set(numeric_features_columns) - set(categorical_features_list_to_remove_from_numerical))\n",
    "train['MSSubClass'] = train['MSSubClass'].apply(str)\n",
    "test['MSSubClass'] = test['MSSubClass'].apply(str)\n",
    "train['MoSold'] = train['MoSold'].apply(str)\n",
    "test['MoSold'] = test['MoSold'].apply(str)\n",
    "categorical_features_columns = list(set(train.columns) - set(numeric_features_columns))\n",
    "\n",
    "# Fill in the missing data\n",
    "latest_year_house_sold = train['YrSold'].max()\n",
    "train['GarageYrBlt'].fillna(latest_year_house_sold, inplace = True)\n",
    "test['GarageYrBlt'].fillna(latest_year_house_sold, inplace = True)\n",
    "train_numeric_features_with_missing_values = [feature for feature in numeric_features_columns if train[feature].isnull().sum() > 0]\n",
    "test_numeric_features_with_missing_values = [feature for feature in numeric_features_columns if test[feature].isnull().sum() > 0]\n",
    "train_categoric_features_with_missing_values = [feature for feature in categorical_features_columns if train[feature].isnull().sum() > 0]\n",
    "test_categoric_features_with_missing_values = [feature for feature in categorical_features_columns if test[feature].isnull().sum() > 0]\n",
    "\n",
    "for feature in train_numeric_features_with_missing_values:\n",
    "    train[feature].fillna(0, inplace = True)\n",
    "\n",
    "for feature in test_numeric_features_with_missing_values:\n",
    "    test[feature].fillna(0, inplace = True)\n",
    "\n",
    "categoric_features_with_NA = [\n",
    "    'Alley',\n",
    "    'BsmtCond',\n",
    "    'BsmtExposure',\n",
    "    'BsmtFinType1',\n",
    "    'BsmtFinType2',\n",
    "    'BsmtQual',\n",
    "    'Fence',\n",
    "    'FireplaceQu',\n",
    "    'GarageCond',\n",
    "    'GarageFinish',\n",
    "    'GarageQual',\n",
    "    'GarageType',\n",
    "    'MiscFeature',\n",
    "    'PoolQC'\n",
    "]\n",
    "for feature in train_categoric_features_with_missing_values:\n",
    "    if feature in categoric_features_with_NA:\n",
    "        train[feature].fillna('NA', inplace = True)\n",
    "    else:\n",
    "        train[feature].fillna(train[feature].value_counts().idxmax(), inplace = True)\n",
    "        \n",
    "for feature in test_categoric_features_with_missing_values:\n",
    "    if feature in categoric_features_with_NA:\n",
    "        test[feature].fillna('NA', inplace = True)\n",
    "    else:\n",
    "        test[feature].fillna(test[feature].value_counts().idxmax(), inplace = True)\n",
    "\n",
    "# Convert year features to age features\n",
    "year_features = ['YearBuilt', 'YearRemodAdd', 'GarageYrBlt', 'YrSold']\n",
    "train['AgeOfHouse'] = train['YrSold'] - train['YearBuilt']\n",
    "train['AgeOfRemodAdd'] = train['YrSold'] - train['YearRemodAdd']\n",
    "train['AgeOfGarage'] = train['YrSold'] - train['GarageYrBlt']\n",
    "train['AgeOfSale'] = latest_year_house_sold - train['YrSold']\n",
    "test['AgeOfHouse'] = test['YrSold'] - test['YearBuilt']\n",
    "test['AgeOfRemodAdd'] = test['YrSold'] - test['YearRemodAdd']\n",
    "test['AgeOfGarage'] = test['YrSold'] - test['GarageYrBlt']\n",
    "test['AgeOfSale'] = latest_year_house_sold - test['YrSold']\n",
    "age_features = ['AgeOfHouse', 'AgeOfRemodAdd', 'AgeOfGarage', 'AgeOfSale']\n",
    "train.drop(year_features, axis=1, inplace=True)\n",
    "test.drop(year_features, axis=1, inplace=True)\n",
    "numeric_features_columns = list(set(numeric_features_columns) - set(year_features))\n",
    "numeric_features_columns = list(set(numeric_features_columns).union(set(age_features)))\n",
    "\n",
    "# Log transformation of train SalePrice\n",
    "train_sale_price['SalePrice'] = train_sale_price['SalePrice'].apply(np.log)\n",
    "\n",
    "print(len(numeric_features_columns))\n",
    "print(len(categorical_features_columns))"
   ]
  },
  {
   "cell_type": "markdown",
   "metadata": {},
   "source": [
    "There are 34 numerical features and 45 categorical features.\n",
    "\n",
    "**Step 2: Linear regression using only the numeric features**\n",
    "\n",
    "We now make our first set of predictions: Linear regression using only the 34 numeric train features."
   ]
  },
  {
   "cell_type": "code",
   "execution_count": 2,
   "metadata": {},
   "outputs": [
    {
     "name": "stdout",
     "output_type": "stream",
     "text": [
      "(1460, 34)\n",
      "(1460, 1)\n"
     ]
    }
   ],
   "source": [
    "X = train[numeric_features_columns] # The numerical train features\n",
    "Y = train_sale_price.copy() # The train salePrices\n",
    "print(X.shape)\n",
    "print(Y.shape)"
   ]
  },
  {
   "cell_type": "markdown",
   "metadata": {},
   "source": [
    "We use the linear regression model from sklearn which finds the 'best linear fit' of X to Y. Without going into too much detail, it constructs Y' which depends linearly on the features in X, and which minimises the sum of squares between Y and Y'. Again, without going into too much detail, there is an unique mathematical solution for Y' if the columns of the matrix X are linearly independent. We will return to this point when we discuss correlations in X in a later improved prediction.\n",
    "\n",
    "Before making the final prediction we wish to test the accuracy of the linear regression on some train subsets."
   ]
  },
  {
   "cell_type": "code",
   "execution_count": 3,
   "metadata": {},
   "outputs": [],
   "source": [
    "from sklearn.model_selection import train_test_split # Library to split the train data into train-test subsets\n",
    "\n",
    "x_train, x_test, y_train, y_test = train_test_split(X, Y, random_state=42, test_size=.33) # x_train and y_train are corresponding subsets X and Y of size .67 compared to X and Y. x_test and y_test are the remaining subsets of X and Y of size .33."
   ]
  },
  {
   "cell_type": "markdown",
   "metadata": {},
   "source": [
    "We will train a linear regression model using x_train and y_train. We will then apply the trained model to x_test to predict the values in y_test. More exactly, we score our predictions by calculating the RMSE of between our predictions and y_test. Recall that values in Y were the log transformed sale prices. Therefore y_test contains the actual log transformed sale prices, we will predict these log transformed sale prices. The RMSE between the two is how kaggle scores actual submissions, and so is a great metric to check. \n",
    "\n",
    "First we save the actual log transformed sale prices in a new dataframe."
   ]
  },
  {
   "cell_type": "code",
   "execution_count": 4,
   "metadata": {},
   "outputs": [
    {
     "name": "stdout",
     "output_type": "stream",
     "text": [
      "(482, 1)\n"
     ]
    },
    {
     "data": {
      "text/html": [
       "<div>\n",
       "<style scoped>\n",
       "    .dataframe tbody tr th:only-of-type {\n",
       "        vertical-align: middle;\n",
       "    }\n",
       "\n",
       "    .dataframe tbody tr th {\n",
       "        vertical-align: top;\n",
       "    }\n",
       "\n",
       "    .dataframe thead th {\n",
       "        text-align: right;\n",
       "    }\n",
       "</style>\n",
       "<table border=\"1\" class=\"dataframe\">\n",
       "  <thead>\n",
       "    <tr style=\"text-align: right;\">\n",
       "      <th></th>\n",
       "      <th>SalePrice</th>\n",
       "    </tr>\n",
       "  </thead>\n",
       "  <tbody>\n",
       "    <tr>\n",
       "      <th>892</th>\n",
       "      <td>11.947949</td>\n",
       "    </tr>\n",
       "    <tr>\n",
       "      <th>1105</th>\n",
       "      <td>12.691580</td>\n",
       "    </tr>\n",
       "    <tr>\n",
       "      <th>413</th>\n",
       "      <td>11.652687</td>\n",
       "    </tr>\n",
       "    <tr>\n",
       "      <th>522</th>\n",
       "      <td>11.976659</td>\n",
       "    </tr>\n",
       "    <tr>\n",
       "      <th>1036</th>\n",
       "      <td>12.661914</td>\n",
       "    </tr>\n",
       "  </tbody>\n",
       "</table>\n",
       "</div>"
      ],
      "text/plain": [
       "      SalePrice\n",
       "892   11.947949\n",
       "1105  12.691580\n",
       "413   11.652687\n",
       "522   11.976659\n",
       "1036  12.661914"
      ]
     },
     "execution_count": 4,
     "metadata": {},
     "output_type": "execute_result"
    }
   ],
   "source": [
    "actual_log_prices = y_test\n",
    "\n",
    "print(actual_log_prices.shape)\n",
    "actual_log_prices.head()"
   ]
  },
  {
   "cell_type": "markdown",
   "metadata": {},
   "source": [
    "Next we perform linear regression on the train-test split and make predictions."
   ]
  },
  {
   "cell_type": "code",
   "execution_count": 5,
   "metadata": {},
   "outputs": [
    {
     "name": "stdout",
     "output_type": "stream",
     "text": [
      "(482, 1)\n"
     ]
    },
    {
     "data": {
      "text/html": [
       "<div>\n",
       "<style scoped>\n",
       "    .dataframe tbody tr th:only-of-type {\n",
       "        vertical-align: middle;\n",
       "    }\n",
       "\n",
       "    .dataframe tbody tr th {\n",
       "        vertical-align: top;\n",
       "    }\n",
       "\n",
       "    .dataframe thead th {\n",
       "        text-align: right;\n",
       "    }\n",
       "</style>\n",
       "<table border=\"1\" class=\"dataframe\">\n",
       "  <thead>\n",
       "    <tr style=\"text-align: right;\">\n",
       "      <th></th>\n",
       "      <th>SalePrice</th>\n",
       "    </tr>\n",
       "  </thead>\n",
       "  <tbody>\n",
       "    <tr>\n",
       "      <th>0</th>\n",
       "      <td>11.927564</td>\n",
       "    </tr>\n",
       "    <tr>\n",
       "      <th>1</th>\n",
       "      <td>12.617076</td>\n",
       "    </tr>\n",
       "    <tr>\n",
       "      <th>2</th>\n",
       "      <td>11.661684</td>\n",
       "    </tr>\n",
       "    <tr>\n",
       "      <th>3</th>\n",
       "      <td>12.025795</td>\n",
       "    </tr>\n",
       "    <tr>\n",
       "      <th>4</th>\n",
       "      <td>12.612827</td>\n",
       "    </tr>\n",
       "  </tbody>\n",
       "</table>\n",
       "</div>"
      ],
      "text/plain": [
       "   SalePrice\n",
       "0  11.927564\n",
       "1  12.617076\n",
       "2  11.661684\n",
       "3  12.025795\n",
       "4  12.612827"
      ]
     },
     "execution_count": 5,
     "metadata": {},
     "output_type": "execute_result"
    }
   ],
   "source": [
    "from sklearn import linear_model # Import the linear model\n",
    "\n",
    "lr = linear_model.LinearRegression() # Initialise the linear model\n",
    "model = lr.fit(x_train, y_train) # Calculate the best linear fit Y' of x_train to y_train\n",
    "predicted_log_prices = model.predict(x_test) # Use Y' and x_test to predict the values of y_test. This returns an array\n",
    "predicted_log_prices = pd.DataFrame(predicted_log_prices, columns = ['SalePrice']) # Convert the array to a dataframe\n",
    "\n",
    "print(predicted_log_prices.shape)\n",
    "predicted_log_prices.head()"
   ]
  },
  {
   "cell_type": "markdown",
   "metadata": {},
   "source": [
    "Finally we calculate the RMSE between the two to score our prediction, and make a scatter plot to visualise our prediction."
   ]
  },
  {
   "cell_type": "code",
   "execution_count": 8,
   "metadata": {
    "scrolled": false
   },
   "outputs": [
    {
     "name": "stdout",
     "output_type": "stream",
     "text": [
      "0.1519846334701592\n"
     ]
    },
    {
     "data": {
      "image/png": "[encoded data removed]",
      "text/plain": [
       "<Figure size 432x288 with 1 Axes>"
      ]
     },
     "metadata": {
      "needs_background": "light"
     },
     "output_type": "display_data"
    }
   ],
   "source": [
    "from sklearn.metrics import mean_squared_error # The square root of this is the RMSE\n",
    "from matplotlib import pyplot as plt # For visualising our predictions on some train subsets\n",
    "\n",
    "print(np.sqrt(mean_squared_error(predicted_log_prices, actual_log_prices))) # RMSE between the actual and predicted log transformed sale prices\n",
    "\n",
    "# Scatter plot between the actual and predicted log transformed sale prices between 10 and 14 in both axes.\n",
    "fig = plt.figure()\n",
    "ax = fig.gca()\n",
    "ax.set_xticks(np.arange(10, 14, .5))\n",
    "ax.set_yticks(np.arange(10, 14, .5))\n",
    "plt.xlim(10,  14)\n",
    "plt.ylim(10, 14)\n",
    "plt.plot([10,14], [10,14])\n",
    "plt.grid()\n",
    "plt.scatter(actual_log_prices, predicted_log_prices)\n",
    "plt.ylabel('Predicted Price')\n",
    "plt.xlabel('Actual Price')\n",
    "plt.title('Linear Regression')\n",
    "plt.show() "
   ]
  },
  {
   "cell_type": "markdown",
   "metadata": {},
   "source": [
    "A reasonable result!! Now we are ready for our first submission to kaggle. We do not split X and Y and calculate the linear regression using the whole spaces."
   ]
  },
  {
   "cell_type": "code",
   "execution_count": 9,
   "metadata": {},
   "outputs": [
    {
     "name": "stdout",
     "output_type": "stream",
     "text": [
      "(1459, 1)\n"
     ]
    },
    {
     "data": {
      "text/html": [
       "<div>\n",
       "<style scoped>\n",
       "    .dataframe tbody tr th:only-of-type {\n",
       "        vertical-align: middle;\n",
       "    }\n",
       "\n",
       "    .dataframe tbody tr th {\n",
       "        vertical-align: top;\n",
       "    }\n",
       "\n",
       "    .dataframe thead th {\n",
       "        text-align: right;\n",
       "    }\n",
       "</style>\n",
       "<table border=\"1\" class=\"dataframe\">\n",
       "  <thead>\n",
       "    <tr style=\"text-align: right;\">\n",
       "      <th></th>\n",
       "      <th>SalePrice</th>\n",
       "    </tr>\n",
       "  </thead>\n",
       "  <tbody>\n",
       "    <tr>\n",
       "      <th>0</th>\n",
       "      <td>11.673165</td>\n",
       "    </tr>\n",
       "    <tr>\n",
       "      <th>1</th>\n",
       "      <td>11.850893</td>\n",
       "    </tr>\n",
       "    <tr>\n",
       "      <th>2</th>\n",
       "      <td>12.025227</td>\n",
       "    </tr>\n",
       "    <tr>\n",
       "      <th>3</th>\n",
       "      <td>12.179488</td>\n",
       "    </tr>\n",
       "    <tr>\n",
       "      <th>4</th>\n",
       "      <td>12.149859</td>\n",
       "    </tr>\n",
       "  </tbody>\n",
       "</table>\n",
       "</div>"
      ],
      "text/plain": [
       "   SalePrice\n",
       "0  11.673165\n",
       "1  11.850893\n",
       "2  12.025227\n",
       "3  12.179488\n",
       "4  12.149859"
      ]
     },
     "execution_count": 9,
     "metadata": {},
     "output_type": "execute_result"
    }
   ],
   "source": [
    "model = lr.fit(X, Y) # Calculate the best linear fit Y' of X to Y\n",
    "X_test = test[numeric_features_columns] # The numeric test data, which we will use to predict the sale prices\n",
    "predicted_log_prices = model.predict(X_test) # Use Y' and X_test to predict the log transformed and normalised sale prices, and convert the result into a dataframe\n",
    "predicted_log_prices = pd.DataFrame(predicted_log_prices, columns = ['SalePrice']) # Convert the array to a dataframepredicted_prices\n",
    "\n",
    "print(predicted_log_prices.shape)\n",
    "predicted_log_prices.head()"
   ]
  },
  {
   "cell_type": "markdown",
   "metadata": {},
   "source": [
    "Recall that we saved the test Id information earlier in the submission dataframe, which we must combine with our predictions so that we can make a submission to kaggle. Recall also that we predicted the log transformed sale prices, so we must perform an exponential transform (the inverse of the log transform) to predict the actual sale prices. We do both now."
   ]
  },
  {
   "cell_type": "code",
   "execution_count": 10,
   "metadata": {},
   "outputs": [
    {
     "name": "stderr",
     "output_type": "stream",
     "text": [
      "/home/tmetcalfe/Documents/machine-learning/anaconda3/envs/house-prices-tensorflow/lib/python3.7/site-packages/ipykernel_launcher.py:1: SettingWithCopyWarning: \n",
      "A value is trying to be set on a copy of a slice from a DataFrame.\n",
      "Try using .loc[row_indexer,col_indexer] = value instead\n",
      "\n",
      "See the caveats in the documentation: https://pandas.pydata.org/pandas-docs/stable/user_guide/indexing.html#returning-a-view-versus-a-copy\n",
      "  \"\"\"Entry point for launching an IPython kernel.\n"
     ]
    },
    {
     "data": {
      "text/html": [
       "<div>\n",
       "<style scoped>\n",
       "    .dataframe tbody tr th:only-of-type {\n",
       "        vertical-align: middle;\n",
       "    }\n",
       "\n",
       "    .dataframe tbody tr th {\n",
       "        vertical-align: top;\n",
       "    }\n",
       "\n",
       "    .dataframe thead th {\n",
       "        text-align: right;\n",
       "    }\n",
       "</style>\n",
       "<table border=\"1\" class=\"dataframe\">\n",
       "  <thead>\n",
       "    <tr style=\"text-align: right;\">\n",
       "      <th></th>\n",
       "      <th>Id</th>\n",
       "      <th>SalePrice</th>\n",
       "    </tr>\n",
       "  </thead>\n",
       "  <tbody>\n",
       "    <tr>\n",
       "      <th>0</th>\n",
       "      <td>1461</td>\n",
       "      <td>117379.204707</td>\n",
       "    </tr>\n",
       "    <tr>\n",
       "      <th>1</th>\n",
       "      <td>1462</td>\n",
       "      <td>140209.492438</td>\n",
       "    </tr>\n",
       "    <tr>\n",
       "      <th>2</th>\n",
       "      <td>1463</td>\n",
       "      <td>166912.800037</td>\n",
       "    </tr>\n",
       "    <tr>\n",
       "      <th>3</th>\n",
       "      <td>1464</td>\n",
       "      <td>194753.036569</td>\n",
       "    </tr>\n",
       "    <tr>\n",
       "      <th>4</th>\n",
       "      <td>1465</td>\n",
       "      <td>189067.361685</td>\n",
       "    </tr>\n",
       "    <tr>\n",
       "      <th>...</th>\n",
       "      <td>...</td>\n",
       "      <td>...</td>\n",
       "    </tr>\n",
       "    <tr>\n",
       "      <th>1454</th>\n",
       "      <td>2915</td>\n",
       "      <td>99946.290860</td>\n",
       "    </tr>\n",
       "    <tr>\n",
       "      <th>1455</th>\n",
       "      <td>2916</td>\n",
       "      <td>101453.062294</td>\n",
       "    </tr>\n",
       "    <tr>\n",
       "      <th>1456</th>\n",
       "      <td>2917</td>\n",
       "      <td>180615.471032</td>\n",
       "    </tr>\n",
       "    <tr>\n",
       "      <th>1457</th>\n",
       "      <td>2918</td>\n",
       "      <td>115453.458067</td>\n",
       "    </tr>\n",
       "    <tr>\n",
       "      <th>1458</th>\n",
       "      <td>2919</td>\n",
       "      <td>237193.389869</td>\n",
       "    </tr>\n",
       "  </tbody>\n",
       "</table>\n",
       "<p>1459 rows × 2 columns</p>\n",
       "</div>"
      ],
      "text/plain": [
       "        Id      SalePrice\n",
       "0     1461  117379.204707\n",
       "1     1462  140209.492438\n",
       "2     1463  166912.800037\n",
       "3     1464  194753.036569\n",
       "4     1465  189067.361685\n",
       "...    ...            ...\n",
       "1454  2915   99946.290860\n",
       "1455  2916  101453.062294\n",
       "1456  2917  180615.471032\n",
       "1457  2918  115453.458067\n",
       "1458  2919  237193.389869\n",
       "\n",
       "[1459 rows x 2 columns]"
      ]
     },
     "execution_count": 10,
     "metadata": {},
     "output_type": "execute_result"
    }
   ],
   "source": [
    "submission['SalePrice'] = predicted_log_prices['SalePrice'].apply(np.exp) # exponential transform of predicted log prices\n",
    "submission"
   ]
  },
  {
   "cell_type": "markdown",
   "metadata": {},
   "source": [
    "We finally create a file for submission to kaggle."
   ]
  },
  {
   "cell_type": "code",
   "execution_count": 11,
   "metadata": {},
   "outputs": [],
   "source": [
    "submission.to_csv('submission.csv',index=False) # Generate a submission file named linear_only_numeric with the correct format for kaggle submission"
   ]
  },
  {
   "cell_type": "markdown",
   "metadata": {},
   "source": [
    "Submitting this file to kaggle gives a **RMSE score of 0.14890**. This is comparable to the score on our train-test split above. As a reminder, this was obtained from a linear regression on only the numerical features, 34 out of 79 total features. Next we will incorporate categorical features."
   ]
  },
  {
   "cell_type": "code",
   "execution_count": null,
   "metadata": {},
   "outputs": [],
   "source": []
  }
 ],
 "metadata": {
  "kernelspec": {
   "display_name": "Python 3",
   "language": "python",
   "name": "python3"
  },
  "language_info": {
   "codemirror_mode": {
    "name": "ipython",
    "version": 3
   },
   "file_extension": ".py",
   "mimetype": "text/x-python",
   "name": "python",
   "nbconvert_exporter": "python",
   "pygments_lexer": "ipython3",
   "version": "3.7.6"
  }
 },
 "nbformat": 4,
 "nbformat_minor": 4
}
