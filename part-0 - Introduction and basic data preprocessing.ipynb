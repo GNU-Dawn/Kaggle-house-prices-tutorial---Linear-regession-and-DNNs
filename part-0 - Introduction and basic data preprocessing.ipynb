{
 "cells": [
  {
   "cell_type": "markdown",
   "metadata": {},
   "source": [
    "**Part 0: Introduction and basic data preprocessing**\n",
    "\n",
    "In this tutorial we look at the boston house prices competition on kaggle:\n",
    "\n",
    "https://www.kaggle.com/c/house-prices-advanced-regression-techniques/overview/description\n",
    "\n",
    "The train set consists of approximately 1400 house properties (features) and the corresponding salePrice. The train set consists of approximately 1400 house properties (features) without the corresponding salePrice. There are 79 features, both continuous and categorical. The aim is use the train set to build a model to predict the salePrice given the features. Models are then applied to the test set, and the predicted salePrices are submitted to Kaggle. Kaggle evaluates the submissions by comparing the predicted values with the observed sales price (which are hidden) using the Root-Mean-Squared-Error (RMSE) between the logarithm of the predicted values and the logarithm of the observed sales prices.\n",
    "\n",
    "We will use both linear regression and DNNs to make predictions. In both cases we will create initial rough models, submit our predictions, and give our score. We will then make alterations to the features (feature engineering), explain intuitively why we are making such changes, and generate new scores for comparison.\n",
    "\n",
    "In this part we will do some basic preprocessing of the data to prepare for the modeling. We will:\n",
    "    \n",
    "    Split the features into numerical and categorical.\n",
    "    Fill in missing feature values.\n",
    "    Transformation 'year' features into 'age' features.\n",
    "    Symmetrise the sale prices.\n",
    "    Normalise the sale prices and numerical features.\n",
    "    \n",
    "Note, in the following parts we will not always use all of the above preprocessing steps. Or we will not do them in exactly the same order depending on some additional data transformations we will perform. In particular, the normalise step is a linear transformation of the columns, and so theoretically it will not effect the linear regression models, and we therefore ignore it for these models.\n",
    "\n",
    "**Step 1: Examining the features values and splitting into numerical and categorical**\n",
    "\n",
    "We will first use pandas to examine the features in both the train and test set."
   ]
  },
  {
   "cell_type": "code",
   "execution_count": 1,
   "metadata": {},
   "outputs": [],
   "source": [
    "import pandas as pd\n",
    "import numpy as np"
   ]
  },
  {
   "cell_type": "code",
   "execution_count": 2,
   "metadata": {
    "scrolled": true
   },
   "outputs": [
    {
     "name": "stdout",
     "output_type": "stream",
     "text": [
      "(1460, 81)\n"
     ]
    },
    {
     "data": {
      "text/html": [
       "<div>\n",
       "<style scoped>\n",
       "    .dataframe tbody tr th:only-of-type {\n",
       "        vertical-align: middle;\n",
       "    }\n",
       "\n",
       "    .dataframe tbody tr th {\n",
       "        vertical-align: top;\n",
       "    }\n",
       "\n",
       "    .dataframe thead th {\n",
       "        text-align: right;\n",
       "    }\n",
       "</style>\n",
       "<table border=\"1\" class=\"dataframe\">\n",
       "  <thead>\n",
       "    <tr style=\"text-align: right;\">\n",
       "      <th></th>\n",
       "      <th>Id</th>\n",
       "      <th>MSSubClass</th>\n",
       "      <th>MSZoning</th>\n",
       "      <th>LotFrontage</th>\n",
       "      <th>LotArea</th>\n",
       "      <th>Street</th>\n",
       "      <th>Alley</th>\n",
       "      <th>LotShape</th>\n",
       "      <th>LandContour</th>\n",
       "      <th>Utilities</th>\n",
       "      <th>...</th>\n",
       "      <th>PoolArea</th>\n",
       "      <th>PoolQC</th>\n",
       "      <th>Fence</th>\n",
       "      <th>MiscFeature</th>\n",
       "      <th>MiscVal</th>\n",
       "      <th>MoSold</th>\n",
       "      <th>YrSold</th>\n",
       "      <th>SaleType</th>\n",
       "      <th>SaleCondition</th>\n",
       "      <th>SalePrice</th>\n",
       "    </tr>\n",
       "  </thead>\n",
       "  <tbody>\n",
       "    <tr>\n",
       "      <th>0</th>\n",
       "      <td>1</td>\n",
       "      <td>60</td>\n",
       "      <td>RL</td>\n",
       "      <td>65.0</td>\n",
       "      <td>8450</td>\n",
       "      <td>Pave</td>\n",
       "      <td>NaN</td>\n",
       "      <td>Reg</td>\n",
       "      <td>Lvl</td>\n",
       "      <td>AllPub</td>\n",
       "      <td>...</td>\n",
       "      <td>0</td>\n",
       "      <td>NaN</td>\n",
       "      <td>NaN</td>\n",
       "      <td>NaN</td>\n",
       "      <td>0</td>\n",
       "      <td>2</td>\n",
       "      <td>2008</td>\n",
       "      <td>WD</td>\n",
       "      <td>Normal</td>\n",
       "      <td>208500</td>\n",
       "    </tr>\n",
       "    <tr>\n",
       "      <th>1</th>\n",
       "      <td>2</td>\n",
       "      <td>20</td>\n",
       "      <td>RL</td>\n",
       "      <td>80.0</td>\n",
       "      <td>9600</td>\n",
       "      <td>Pave</td>\n",
       "      <td>NaN</td>\n",
       "      <td>Reg</td>\n",
       "      <td>Lvl</td>\n",
       "      <td>AllPub</td>\n",
       "      <td>...</td>\n",
       "      <td>0</td>\n",
       "      <td>NaN</td>\n",
       "      <td>NaN</td>\n",
       "      <td>NaN</td>\n",
       "      <td>0</td>\n",
       "      <td>5</td>\n",
       "      <td>2007</td>\n",
       "      <td>WD</td>\n",
       "      <td>Normal</td>\n",
       "      <td>181500</td>\n",
       "    </tr>\n",
       "    <tr>\n",
       "      <th>2</th>\n",
       "      <td>3</td>\n",
       "      <td>60</td>\n",
       "      <td>RL</td>\n",
       "      <td>68.0</td>\n",
       "      <td>11250</td>\n",
       "      <td>Pave</td>\n",
       "      <td>NaN</td>\n",
       "      <td>IR1</td>\n",
       "      <td>Lvl</td>\n",
       "      <td>AllPub</td>\n",
       "      <td>...</td>\n",
       "      <td>0</td>\n",
       "      <td>NaN</td>\n",
       "      <td>NaN</td>\n",
       "      <td>NaN</td>\n",
       "      <td>0</td>\n",
       "      <td>9</td>\n",
       "      <td>2008</td>\n",
       "      <td>WD</td>\n",
       "      <td>Normal</td>\n",
       "      <td>223500</td>\n",
       "    </tr>\n",
       "    <tr>\n",
       "      <th>3</th>\n",
       "      <td>4</td>\n",
       "      <td>70</td>\n",
       "      <td>RL</td>\n",
       "      <td>60.0</td>\n",
       "      <td>9550</td>\n",
       "      <td>Pave</td>\n",
       "      <td>NaN</td>\n",
       "      <td>IR1</td>\n",
       "      <td>Lvl</td>\n",
       "      <td>AllPub</td>\n",
       "      <td>...</td>\n",
       "      <td>0</td>\n",
       "      <td>NaN</td>\n",
       "      <td>NaN</td>\n",
       "      <td>NaN</td>\n",
       "      <td>0</td>\n",
       "      <td>2</td>\n",
       "      <td>2006</td>\n",
       "      <td>WD</td>\n",
       "      <td>Abnorml</td>\n",
       "      <td>140000</td>\n",
       "    </tr>\n",
       "    <tr>\n",
       "      <th>4</th>\n",
       "      <td>5</td>\n",
       "      <td>60</td>\n",
       "      <td>RL</td>\n",
       "      <td>84.0</td>\n",
       "      <td>14260</td>\n",
       "      <td>Pave</td>\n",
       "      <td>NaN</td>\n",
       "      <td>IR1</td>\n",
       "      <td>Lvl</td>\n",
       "      <td>AllPub</td>\n",
       "      <td>...</td>\n",
       "      <td>0</td>\n",
       "      <td>NaN</td>\n",
       "      <td>NaN</td>\n",
       "      <td>NaN</td>\n",
       "      <td>0</td>\n",
       "      <td>12</td>\n",
       "      <td>2008</td>\n",
       "      <td>WD</td>\n",
       "      <td>Normal</td>\n",
       "      <td>250000</td>\n",
       "    </tr>\n",
       "  </tbody>\n",
       "</table>\n",
       "<p>5 rows × 81 columns</p>\n",
       "</div>"
      ],
      "text/plain": [
       "   Id  MSSubClass MSZoning  LotFrontage  LotArea Street Alley LotShape  \\\n",
       "0   1          60       RL         65.0     8450   Pave   NaN      Reg   \n",
       "1   2          20       RL         80.0     9600   Pave   NaN      Reg   \n",
       "2   3          60       RL         68.0    11250   Pave   NaN      IR1   \n",
       "3   4          70       RL         60.0     9550   Pave   NaN      IR1   \n",
       "4   5          60       RL         84.0    14260   Pave   NaN      IR1   \n",
       "\n",
       "  LandContour Utilities  ... PoolArea PoolQC Fence MiscFeature MiscVal MoSold  \\\n",
       "0         Lvl    AllPub  ...        0    NaN   NaN         NaN       0      2   \n",
       "1         Lvl    AllPub  ...        0    NaN   NaN         NaN       0      5   \n",
       "2         Lvl    AllPub  ...        0    NaN   NaN         NaN       0      9   \n",
       "3         Lvl    AllPub  ...        0    NaN   NaN         NaN       0      2   \n",
       "4         Lvl    AllPub  ...        0    NaN   NaN         NaN       0     12   \n",
       "\n",
       "  YrSold  SaleType  SaleCondition  SalePrice  \n",
       "0   2008        WD         Normal     208500  \n",
       "1   2007        WD         Normal     181500  \n",
       "2   2008        WD         Normal     223500  \n",
       "3   2006        WD        Abnorml     140000  \n",
       "4   2008        WD         Normal     250000  \n",
       "\n",
       "[5 rows x 81 columns]"
      ]
     },
     "execution_count": 2,
     "metadata": {},
     "output_type": "execute_result"
    }
   ],
   "source": [
    "train = pd.read_csv('input/train.csv') # import train dataset\n",
    "print(train.shape) # shape of train dataset\n",
    "train.head() # first 5 rows of train dataset"
   ]
  },
  {
   "cell_type": "markdown",
   "metadata": {},
   "source": [
    "There are 1460 train rows, each representing the data for a single house. There are 81 train columns which are clearly labelled at the top: The first column is unique Id of each house, the last is the salePrice, and the remaining 79 are the features. The different features are explained in the document data_description.txt."
   ]
  },
  {
   "cell_type": "code",
   "execution_count": 3,
   "metadata": {
    "scrolled": false
   },
   "outputs": [
    {
     "name": "stdout",
     "output_type": "stream",
     "text": [
      "(1459, 80)\n"
     ]
    },
    {
     "data": {
      "text/html": [
       "<div>\n",
       "<style scoped>\n",
       "    .dataframe tbody tr th:only-of-type {\n",
       "        vertical-align: middle;\n",
       "    }\n",
       "\n",
       "    .dataframe tbody tr th {\n",
       "        vertical-align: top;\n",
       "    }\n",
       "\n",
       "    .dataframe thead th {\n",
       "        text-align: right;\n",
       "    }\n",
       "</style>\n",
       "<table border=\"1\" class=\"dataframe\">\n",
       "  <thead>\n",
       "    <tr style=\"text-align: right;\">\n",
       "      <th></th>\n",
       "      <th>Id</th>\n",
       "      <th>MSSubClass</th>\n",
       "      <th>MSZoning</th>\n",
       "      <th>LotFrontage</th>\n",
       "      <th>LotArea</th>\n",
       "      <th>Street</th>\n",
       "      <th>Alley</th>\n",
       "      <th>LotShape</th>\n",
       "      <th>LandContour</th>\n",
       "      <th>Utilities</th>\n",
       "      <th>...</th>\n",
       "      <th>ScreenPorch</th>\n",
       "      <th>PoolArea</th>\n",
       "      <th>PoolQC</th>\n",
       "      <th>Fence</th>\n",
       "      <th>MiscFeature</th>\n",
       "      <th>MiscVal</th>\n",
       "      <th>MoSold</th>\n",
       "      <th>YrSold</th>\n",
       "      <th>SaleType</th>\n",
       "      <th>SaleCondition</th>\n",
       "    </tr>\n",
       "  </thead>\n",
       "  <tbody>\n",
       "    <tr>\n",
       "      <th>0</th>\n",
       "      <td>1461</td>\n",
       "      <td>20</td>\n",
       "      <td>RH</td>\n",
       "      <td>80.0</td>\n",
       "      <td>11622</td>\n",
       "      <td>Pave</td>\n",
       "      <td>NaN</td>\n",
       "      <td>Reg</td>\n",
       "      <td>Lvl</td>\n",
       "      <td>AllPub</td>\n",
       "      <td>...</td>\n",
       "      <td>120</td>\n",
       "      <td>0</td>\n",
       "      <td>NaN</td>\n",
       "      <td>MnPrv</td>\n",
       "      <td>NaN</td>\n",
       "      <td>0</td>\n",
       "      <td>6</td>\n",
       "      <td>2010</td>\n",
       "      <td>WD</td>\n",
       "      <td>Normal</td>\n",
       "    </tr>\n",
       "    <tr>\n",
       "      <th>1</th>\n",
       "      <td>1462</td>\n",
       "      <td>20</td>\n",
       "      <td>RL</td>\n",
       "      <td>81.0</td>\n",
       "      <td>14267</td>\n",
       "      <td>Pave</td>\n",
       "      <td>NaN</td>\n",
       "      <td>IR1</td>\n",
       "      <td>Lvl</td>\n",
       "      <td>AllPub</td>\n",
       "      <td>...</td>\n",
       "      <td>0</td>\n",
       "      <td>0</td>\n",
       "      <td>NaN</td>\n",
       "      <td>NaN</td>\n",
       "      <td>Gar2</td>\n",
       "      <td>12500</td>\n",
       "      <td>6</td>\n",
       "      <td>2010</td>\n",
       "      <td>WD</td>\n",
       "      <td>Normal</td>\n",
       "    </tr>\n",
       "    <tr>\n",
       "      <th>2</th>\n",
       "      <td>1463</td>\n",
       "      <td>60</td>\n",
       "      <td>RL</td>\n",
       "      <td>74.0</td>\n",
       "      <td>13830</td>\n",
       "      <td>Pave</td>\n",
       "      <td>NaN</td>\n",
       "      <td>IR1</td>\n",
       "      <td>Lvl</td>\n",
       "      <td>AllPub</td>\n",
       "      <td>...</td>\n",
       "      <td>0</td>\n",
       "      <td>0</td>\n",
       "      <td>NaN</td>\n",
       "      <td>MnPrv</td>\n",
       "      <td>NaN</td>\n",
       "      <td>0</td>\n",
       "      <td>3</td>\n",
       "      <td>2010</td>\n",
       "      <td>WD</td>\n",
       "      <td>Normal</td>\n",
       "    </tr>\n",
       "    <tr>\n",
       "      <th>3</th>\n",
       "      <td>1464</td>\n",
       "      <td>60</td>\n",
       "      <td>RL</td>\n",
       "      <td>78.0</td>\n",
       "      <td>9978</td>\n",
       "      <td>Pave</td>\n",
       "      <td>NaN</td>\n",
       "      <td>IR1</td>\n",
       "      <td>Lvl</td>\n",
       "      <td>AllPub</td>\n",
       "      <td>...</td>\n",
       "      <td>0</td>\n",
       "      <td>0</td>\n",
       "      <td>NaN</td>\n",
       "      <td>NaN</td>\n",
       "      <td>NaN</td>\n",
       "      <td>0</td>\n",
       "      <td>6</td>\n",
       "      <td>2010</td>\n",
       "      <td>WD</td>\n",
       "      <td>Normal</td>\n",
       "    </tr>\n",
       "    <tr>\n",
       "      <th>4</th>\n",
       "      <td>1465</td>\n",
       "      <td>120</td>\n",
       "      <td>RL</td>\n",
       "      <td>43.0</td>\n",
       "      <td>5005</td>\n",
       "      <td>Pave</td>\n",
       "      <td>NaN</td>\n",
       "      <td>IR1</td>\n",
       "      <td>HLS</td>\n",
       "      <td>AllPub</td>\n",
       "      <td>...</td>\n",
       "      <td>144</td>\n",
       "      <td>0</td>\n",
       "      <td>NaN</td>\n",
       "      <td>NaN</td>\n",
       "      <td>NaN</td>\n",
       "      <td>0</td>\n",
       "      <td>1</td>\n",
       "      <td>2010</td>\n",
       "      <td>WD</td>\n",
       "      <td>Normal</td>\n",
       "    </tr>\n",
       "  </tbody>\n",
       "</table>\n",
       "<p>5 rows × 80 columns</p>\n",
       "</div>"
      ],
      "text/plain": [
       "     Id  MSSubClass MSZoning  LotFrontage  LotArea Street Alley LotShape  \\\n",
       "0  1461          20       RH         80.0    11622   Pave   NaN      Reg   \n",
       "1  1462          20       RL         81.0    14267   Pave   NaN      IR1   \n",
       "2  1463          60       RL         74.0    13830   Pave   NaN      IR1   \n",
       "3  1464          60       RL         78.0     9978   Pave   NaN      IR1   \n",
       "4  1465         120       RL         43.0     5005   Pave   NaN      IR1   \n",
       "\n",
       "  LandContour Utilities  ... ScreenPorch PoolArea PoolQC  Fence MiscFeature  \\\n",
       "0         Lvl    AllPub  ...         120        0    NaN  MnPrv         NaN   \n",
       "1         Lvl    AllPub  ...           0        0    NaN    NaN        Gar2   \n",
       "2         Lvl    AllPub  ...           0        0    NaN  MnPrv         NaN   \n",
       "3         Lvl    AllPub  ...           0        0    NaN    NaN         NaN   \n",
       "4         HLS    AllPub  ...         144        0    NaN    NaN         NaN   \n",
       "\n",
       "  MiscVal MoSold  YrSold  SaleType  SaleCondition  \n",
       "0       0      6    2010        WD         Normal  \n",
       "1   12500      6    2010        WD         Normal  \n",
       "2       0      3    2010        WD         Normal  \n",
       "3       0      6    2010        WD         Normal  \n",
       "4       0      1    2010        WD         Normal  \n",
       "\n",
       "[5 rows x 80 columns]"
      ]
     },
     "execution_count": 3,
     "metadata": {},
     "output_type": "execute_result"
    }
   ],
   "source": [
    "test = pd.read_csv('input/test.csv') # import test dataset\n",
    "print(test.shape) # shape of test dataset\n",
    "test.head() # first 5 rows of test dataset"
   ]
  },
  {
   "cell_type": "markdown",
   "metadata": {},
   "source": [
    "There are 1459 test rows, each representing the data for a single house. There are 80 test columns which are clearly labelled at the top: The first column is unique Id of each house, and the remaining 79 are the features. There is no salePrice as we wish to predict this.\n",
    "\n",
    "We drop the Id columns, saving test Id to a separate variable for the purposes of submission to kaggle later. We will also temporarily remove train salePrice, saving it to a separate variable which we will use later."
   ]
  },
  {
   "cell_type": "code",
   "execution_count": 4,
   "metadata": {},
   "outputs": [],
   "source": [
    "train.drop(['Id'], axis=1, inplace=True) # Remove train Id column\n",
    "submission = test[['Id']] # Create a dataframe which we will need for submission later, and save test Id to the dataset\n",
    "test.drop(['Id'], axis=1, inplace=True) # Remove test Id column\n",
    "train_sale_price = train[['SalePrice']] # Dataframe containing the train SalePrice\n",
    "train.drop(['SalePrice'], axis=1, inplace=True) # Remove train salePrice column"
   ]
  },
  {
   "cell_type": "markdown",
   "metadata": {},
   "source": [
    "Next we split into numerical features and categorical features."
   ]
  },
  {
   "cell_type": "code",
   "execution_count": 5,
   "metadata": {
    "scrolled": true
   },
   "outputs": [
    {
     "name": "stdout",
     "output_type": "stream",
     "text": [
      "34\n",
      "45\n"
     ]
    }
   ],
   "source": [
    "numerical_features_columns = list(train.select_dtypes(include=[np.number]).columns) # numerical columns list containing all columns which have numbers\n",
    "categorical_features_list_to_remove_from_numerical = ['MSSubClass', 'MoSold'] # We will remove MSSubClass and MoSold from numerical column list. We will remove MSSubClass because, though these are numbers, it is clear from data_description.txt that this is categorical. We will remove MoSold because, though months are given as numbers, I think they are more natural as categorical.\n",
    "numerical_features_columns = list(set(numerical_features_columns) - set(categorical_features_list_to_remove_from_numerical)) # Remove MSSubClass and MoSold from numerical column list. \n",
    "train['MSSubClass'] = train['MSSubClass'].apply(str) # Convert train MSSubClass to strings so that they are now categorical\n",
    "test['MSSubClass'] = test['MSSubClass'].apply(str) # Convert test MSSubClass to strings so that they are now categorical\n",
    "train['MoSold'] = train['MoSold'].apply(str) # Convert train MoSold to strings so that they are now categorical\n",
    "test['MoSold'] = test['MoSold'].apply(str) # Convert test MoSold to strings so that they are now categorical\n",
    "categorical_features_columns = list(set(train.columns) - set(numerical_features_columns)) # Categorical column list contains all features that are not numerical\n",
    "print(len(numerical_features_columns)) # Number of numerical features\n",
    "print(len(categorical_features_columns)) # Number of categorical features"
   ]
  },
  {
   "cell_type": "markdown",
   "metadata": {},
   "source": [
    "There are 34 numerical features and 79-34 = 45 categorical features."
   ]
  },
  {
   "cell_type": "markdown",
   "metadata": {},
   "source": [
    "**Step 2: Dealing with missing feature values**\n",
    "\n",
    "Next we investigate the missing numerical values in the train and test dataset. Consider first the missing train numerical data."
   ]
  },
  {
   "cell_type": "code",
   "execution_count": 6,
   "metadata": {
    "scrolled": false
   },
   "outputs": [
    {
     "data": {
      "text/plain": [
       "[('GarageYrBlt', 81), ('MasVnrArea', 8), ('LotFrontage', 259)]"
      ]
     },
     "execution_count": 6,
     "metadata": {},
     "output_type": "execute_result"
    }
   ],
   "source": [
    "train_numerical_features_with_missing_values = [(feature, train[feature].isnull().sum()) for feature in numerical_features_columns if train[feature].isnull().sum() > 0] # List of all train numerical features with missing values, paired with the number of missing values\n",
    "train_numerical_features_with_missing_values"
   ]
  },
  {
   "cell_type": "markdown",
   "metadata": {},
   "source": [
    "Train LotFrontage has 259 missing values, train GarageYrBlt 81, and train MasVnrArea 8. Next the missing test numerical data."
   ]
  },
  {
   "cell_type": "code",
   "execution_count": 7,
   "metadata": {},
   "outputs": [
    {
     "data": {
      "text/plain": [
       "[('GarageArea', 1),\n",
       " ('BsmtHalfBath', 2),\n",
       " ('BsmtFullBath', 2),\n",
       " ('BsmtFinSF1', 1),\n",
       " ('GarageYrBlt', 78),\n",
       " ('GarageCars', 1),\n",
       " ('BsmtFinSF2', 1),\n",
       " ('MasVnrArea', 15),\n",
       " ('BsmtUnfSF', 1),\n",
       " ('TotalBsmtSF', 1),\n",
       " ('LotFrontage', 227)]"
      ]
     },
     "execution_count": 7,
     "metadata": {},
     "output_type": "execute_result"
    }
   ],
   "source": [
    "test_numerical_features_with_missing_values = [(feature, test[feature].isnull().sum()) for feature in numerical_features_columns if test[feature].isnull().sum() > 0] # List of all test numerical features with missing values, paired with the number of missing values\n",
    "test_numerical_features_with_missing_values"
   ]
  },
  {
   "cell_type": "markdown",
   "metadata": {},
   "source": [
    "We need to fill in the missing numerical values. We use the value 0 in almost all cases, with the exception of GarageYrBlt. Why 0? Because we guess the data is only missing when, for example, there is no LotFrontage. This is an assumption and may be false. Different choices, for example the median, may give better results.\n",
    "\n",
    "What about GarageYrBlt? There are 81 missing values in train, 78 in test. This is trickier, we need to choose a 'natural' year for the missing data. Why might this data be missing? Let us look at the train GarageArea feature to get a clue."
   ]
  },
  {
   "cell_type": "code",
   "execution_count": 8,
   "metadata": {},
   "outputs": [
    {
     "name": "stdout",
     "output_type": "stream",
     "text": [
      "(81, 2)\n",
      "81\n"
     ]
    }
   ],
   "source": [
    "train_garage_year_and_zero_area = train[['GarageYrBlt', 'GarageArea']][train['GarageArea'] == 0] # Dataset containing only train GarageYrBlt and GarageArea when GarageArea == 0\n",
    "print(train_garage_year_and_zero_area.shape) # Shape of dataset train_garage_year_and_zero_area\n",
    "print(train_garage_year_and_zero_area['GarageYrBlt'].isnull().sum()) # How many missing GarageYrBlt values in train_garage_year_and_zero_area?"
   ]
  },
  {
   "cell_type": "markdown",
   "metadata": {},
   "source": [
    "All 81 missing train GarageYrBlt values occur when garageArea == 0, i.e., there is no garage!! Now we understand why these values are missing, but it is still difficult to choose a 'natural' year for the missing values. But we must choose something, so we choose the latest year a house was sold. A different choice may work better."
   ]
  },
  {
   "cell_type": "code",
   "execution_count": 9,
   "metadata": {},
   "outputs": [],
   "source": [
    "latest_year_house_sold = train['YrSold'].max() # Max of train YrSold column\n",
    "train['GarageYrBlt'].fillna(latest_year_house_sold, inplace = True) # All missing values in train GarageYrBlt replaced with latest_year_house_sold\n",
    "test['GarageYrBlt'].fillna(latest_year_house_sold, inplace = True) # All missing values in test GarageYrBlt replaced with latest_year_house_sold\n",
    "train_numerical_features_with_missing_values.remove(('GarageYrBlt', 81))\n",
    "test_numerical_features_with_missing_values.remove(('GarageYrBlt', 78))"
   ]
  },
  {
   "cell_type": "markdown",
   "metadata": {},
   "source": [
    "The remaining missing values are filled in with 0 as discussed above."
   ]
  },
  {
   "cell_type": "code",
   "execution_count": 10,
   "metadata": {},
   "outputs": [],
   "source": [
    "train_numerical_features_with_missing_values = [item[0] for item in train_numerical_features_with_missing_values] # List of all train numerical features with missing values, now ignoring the number of missing values\n",
    "for feature in train_numerical_features_with_missing_values:\n",
    "    train[feature].fillna(0, inplace = True) # All missing values for this train feature are replaced with 0\n",
    "\n",
    "test_numerical_features_with_missing_values = [item[0] for item in test_numerical_features_with_missing_values]\n",
    "for feature in test_numerical_features_with_missing_values:\n",
    "    test[feature].fillna(0, inplace = True) # All missing values for this test feature are replaced with 0"
   ]
  },
  {
   "cell_type": "markdown",
   "metadata": {},
   "source": [
    "Next we investigate the missing categorical values in the train and test dataset."
   ]
  },
  {
   "cell_type": "code",
   "execution_count": 11,
   "metadata": {},
   "outputs": [
    {
     "data": {
      "text/plain": [
       "[('BsmtExposure', 38),\n",
       " ('MasVnrType', 8),\n",
       " ('GarageCond', 81),\n",
       " ('BsmtCond', 37),\n",
       " ('Electrical', 1),\n",
       " ('BsmtFinType1', 37),\n",
       " ('BsmtFinType2', 38),\n",
       " ('GarageType', 81),\n",
       " ('GarageQual', 81),\n",
       " ('Alley', 1369),\n",
       " ('FireplaceQu', 690),\n",
       " ('MiscFeature', 1406),\n",
       " ('PoolQC', 1453),\n",
       " ('Fence', 1179),\n",
       " ('BsmtQual', 37),\n",
       " ('GarageFinish', 81)]"
      ]
     },
     "execution_count": 11,
     "metadata": {},
     "output_type": "execute_result"
    }
   ],
   "source": [
    "train_categoric_features_with_missing_values = [(feature, train[feature].isnull().sum()) for feature in categorical_features_columns if train[feature].isnull().sum() > 0] # List of all train categoric features with missing values, paired with the number of missing values \n",
    "train_categoric_features_with_missing_values"
   ]
  },
  {
   "cell_type": "code",
   "execution_count": 12,
   "metadata": {},
   "outputs": [
    {
     "data": {
      "text/plain": [
       "[('BsmtExposure', 38),\n",
       " ('Utilities', 0),\n",
       " ('MasVnrType', 8),\n",
       " ('MSZoning', 0),\n",
       " ('GarageCond', 81),\n",
       " ('BsmtCond', 37),\n",
       " ('BsmtFinType1', 37),\n",
       " ('KitchenQual', 0),\n",
       " ('BsmtFinType2', 38),\n",
       " ('GarageType', 81),\n",
       " ('Functional', 0),\n",
       " ('GarageQual', 81),\n",
       " ('Alley', 1369),\n",
       " ('FireplaceQu', 690),\n",
       " ('MiscFeature', 1406),\n",
       " ('PoolQC', 1453),\n",
       " ('Exterior2nd', 0),\n",
       " ('Exterior1st', 0),\n",
       " ('Fence', 1179),\n",
       " ('SaleType', 0),\n",
       " ('BsmtQual', 37),\n",
       " ('GarageFinish', 81)]"
      ]
     },
     "execution_count": 12,
     "metadata": {},
     "output_type": "execute_result"
    }
   ],
   "source": [
    "test_categoric_features_with_missing_values = [(feature, train[feature].isnull().sum()) for feature in categorical_features_columns if test[feature].isnull().sum() > 0] # List of all test categoric features with missing values, paired with the number of missing values\n",
    "test_categoric_features_with_missing_values"
   ]
  },
  {
   "cell_type": "markdown",
   "metadata": {},
   "source": [
    "We need to fill in the missing categorical values. Take, for example, train Alley. data_description.txt describes Alley as the type of alley access to property with possible values:\n",
    "\n",
    "       Grvl\tGravel\n",
    "       Pave\tPaved\n",
    "       NA \tNo alley access\n",
    "       \n",
    "Also, as seen above there are 1369 missing train Alley values, and otherwise it has the following value counts."
   ]
  },
  {
   "cell_type": "code",
   "execution_count": 13,
   "metadata": {
    "scrolled": false
   },
   "outputs": [
    {
     "data": {
      "text/plain": [
       "Grvl    50\n",
       "Pave    41\n",
       "Name: Alley, dtype: int64"
      ]
     },
     "execution_count": 13,
     "metadata": {},
     "output_type": "execute_result"
    }
   ],
   "source": [
    "train['Alley'].value_counts() # Unique value counts for train Alley"
   ]
  },
  {
   "cell_type": "markdown",
   "metadata": {},
   "source": [
    "It seems reasonable to us that values are missing when there in no alley access, and so we choose to fill in the missing values with 'NA'. Similarly, a look at data_description.txt gives us the following list of categorical features which also have possible value 'NA', and we choose to fill in all missing values for these features with 'NA'."
   ]
  },
  {
   "cell_type": "code",
   "execution_count": 14,
   "metadata": {
    "scrolled": false
   },
   "outputs": [],
   "source": [
    "categoric_features_with_NA = [\n",
    "    'Alley',\n",
    "    'BsmtQual',\n",
    "    'BsmtCond',\n",
    "    'BsmtExposure',\n",
    "    'BsmtFinType1',\n",
    "    'BsmtFinType2',\n",
    "    'FireplaceQu',\n",
    "    'GarageType',\n",
    "    'GarageFinish',\n",
    "    'GarageQual',\n",
    "    'GarageCond',\n",
    "    'PoolQC',\n",
    "    'Fence',\n",
    "    'MiscFeature' \n",
    "] # All categoric values with possible value NA according to data_description.txt\n",
    "\n",
    "train_categoric_features_with_missing_values = [item[0] for item in train_categoric_features_with_missing_values] # List of all train categoric features with missing values, ignoring the number of missing values \n",
    "test_categoric_features_with_missing_values = [item[0] for item in test_categoric_features_with_missing_values] # List of all test categoric features with missing values, ignoring the number of missing values \n",
    "\n",
    "for feature in train_categoric_features_with_missing_values:\n",
    "    if feature in categoric_features_with_NA: # For all train categoric features with missing values, that have possible value NA \n",
    "        train[feature].fillna('NA', inplace = True) # All missing values for this train feature are replaced with NA\n",
    "        \n",
    "for feature in test_categoric_features_with_missing_values:\n",
    "    if feature in categoric_features_with_NA: # For all test categoric features with missing values, that have possible value NA\n",
    "        test[feature].fillna('NA', inplace = True) # All missing values for this test feature are replaced with NA"
   ]
  },
  {
   "cell_type": "markdown",
   "metadata": {},
   "source": [
    "Now for the remaining categorical features. Consider for example, test MSZoning, which we can see above has 4 missing values. The other values it takes have the following counts."
   ]
  },
  {
   "cell_type": "code",
   "execution_count": 15,
   "metadata": {
    "scrolled": false
   },
   "outputs": [
    {
     "data": {
      "text/plain": [
       "RL         1114\n",
       "RM          242\n",
       "FV           74\n",
       "C (all)      15\n",
       "RH           10\n",
       "Name: MSZoning, dtype: int64"
      ]
     },
     "execution_count": 15,
     "metadata": {},
     "output_type": "execute_result"
    }
   ],
   "source": [
    "test['MSZoning'].value_counts() # Unique value counts for test MSZoning"
   ]
  },
  {
   "cell_type": "markdown",
   "metadata": {},
   "source": [
    "We choose to fill in the missing values with 'RL', the most numerous category, which we can obtain as follows."
   ]
  },
  {
   "cell_type": "code",
   "execution_count": 16,
   "metadata": {},
   "outputs": [
    {
     "data": {
      "text/plain": [
       "'RL'"
      ]
     },
     "execution_count": 16,
     "metadata": {},
     "output_type": "execute_result"
    }
   ],
   "source": [
    "test['MSZoning'].value_counts().idxmax() # The unique value that occurs most often in test MSZoning"
   ]
  },
  {
   "cell_type": "markdown",
   "metadata": {},
   "source": [
    "We choose to do similarly for the remaining categorical features."
   ]
  },
  {
   "cell_type": "code",
   "execution_count": 17,
   "metadata": {},
   "outputs": [],
   "source": [
    "for feature in train_categoric_features_with_missing_values:\n",
    "    if feature not in categoric_features_with_NA: # For all train categoric features with missing values, that do not have possible value NA \n",
    "        train[feature].fillna(train[feature].value_counts().idxmax(), inplace = True) # All missing values for this train feature are replaced with the most numerous value of that feature\n",
    "        \n",
    "for feature in test_categoric_features_with_missing_values:\n",
    "    if feature not in categoric_features_with_NA: # For all test categoric features with missing values, that do not have possible value NA \n",
    "        test[feature].fillna(test[feature].value_counts().idxmax(), inplace = True) # All missing values for this test feature are replaced with the most numerous value of that feature"
   ]
  },
  {
   "cell_type": "markdown",
   "metadata": {},
   "source": [
    "**Step 3: Year to age transformations**\n",
    "\n",
    "Next we transform the 'year' features to 'age' features which seems more relevant to us."
   ]
  },
  {
   "cell_type": "code",
   "execution_count": 18,
   "metadata": {},
   "outputs": [],
   "source": [
    "year_features = ['YearBuilt', 'YearRemodAdd', 'GarageYrBlt', 'YrSold'] # The old year features\n",
    "train['AgeOfHouse'] = train['YrSold'] - train['YearBuilt'] # The train house age when sold\n",
    "train['AgeOfRemodAdd'] = train['YrSold'] - train['YearRemodAdd'] # The train remodel age when sold\n",
    "train['AgeOfGarage'] = train['YrSold'] - train['GarageYrBlt'] # The train garage age when sold\n",
    "train['AgeOfSale'] = latest_year_house_sold - train['YrSold'] # How long ago the train house was sold, relative the the latest year a house was sold\n",
    "test['AgeOfHouse'] = test['YrSold'] - test['YearBuilt'] # The test house age when sold\n",
    "test['AgeOfRemodAdd'] = test['YrSold'] - test['YearRemodAdd'] # The test remodel age when sold\n",
    "test['AgeOfGarage'] = test['YrSold'] - test['GarageYrBlt'] # The test garage age when sold\n",
    "test['AgeOfSale'] = latest_year_house_sold - test['YrSold'] # How long ago the test house was sold, relative the the latest year a house was sold\n",
    "age_features = ['AgeOfHouse', 'AgeOfRemodAdd', 'AgeOfGarage', 'AgeOfSale'] # The new age features\n",
    "train.drop(year_features, axis=1, inplace=True) # Remove the old year features from train\n",
    "test.drop(year_features, axis=1, inplace=True) # Remove the old year features from test\n",
    "numerical_features_columns = list(set(numerical_features_columns) - set(year_features)) # Remove the old year features from the numerical_features_columns list\n",
    "numerical_features_columns = list(set(numerical_features_columns).union(set(age_features))) # Add the new age features to the numerical_features_columns list"
   ]
  },
  {
   "cell_type": "markdown",
   "metadata": {},
   "source": [
    "**Step 4: Saleprice skewness transformation**\n",
    "\n",
    "We now check the distribution of the salePrice column."
   ]
  },
  {
   "cell_type": "code",
   "execution_count": 19,
   "metadata": {
    "scrolled": true
   },
   "outputs": [
    {
     "data": {
      "text/plain": [
       "<matplotlib.axes._subplots.AxesSubplot at 0x7fa62f52e8d0>"
      ]
     },
     "execution_count": 19,
     "metadata": {},
     "output_type": "execute_result"
    },
    {
     "data": {
      "image/png": "[encoded data removed]",
      "text/plain": [
       "<Figure size 432x288 with 1 Axes>"
      ]
     },
     "metadata": {
      "needs_background": "light"
     },
     "output_type": "display_data"
    }
   ],
   "source": [
    "import seaborn as sns\n",
    "from scipy import stats\n",
    "sns.distplot(train_sale_price['SalePrice']) # distribution plot of train SalePrice"
   ]
  },
  {
   "cell_type": "markdown",
   "metadata": {},
   "source": [
    "salePrices are clearly skewed towards smaller values. Let us check the distribution after a log transformation."
   ]
  },
  {
   "cell_type": "code",
   "execution_count": 20,
   "metadata": {
    "scrolled": false
   },
   "outputs": [
    {
     "data": {
      "text/plain": [
       "<matplotlib.axes._subplots.AxesSubplot at 0x7fa62f8d2dd0>"
      ]
     },
     "execution_count": 20,
     "metadata": {},
     "output_type": "execute_result"
    },
    {
     "data": {
      "image/png": "[encoded data removed]",
      "text/plain": [
       "<Figure size 432x288 with 1 Axes>"
      ]
     },
     "metadata": {
      "needs_background": "light"
     },
     "output_type": "display_data"
    }
   ],
   "source": [
    "sns.distplot(train_sale_price['SalePrice'].apply(np.log)) # distribution plot of log transformed train SalePrice"
   ]
  },
  {
   "cell_type": "markdown",
   "metadata": {},
   "source": [
    "This seems more symmetric. We can double check by calculating the skewness."
   ]
  },
  {
   "cell_type": "code",
   "execution_count": 21,
   "metadata": {
    "scrolled": true
   },
   "outputs": [
    {
     "name": "stdout",
     "output_type": "stream",
     "text": [
      "1.8828757597682129\n",
      "0.12133506220520406\n"
     ]
    }
   ],
   "source": [
    "print(train_sale_price['SalePrice'].skew()) # skewness of train SalePrice\n",
    "print((train_sale_price['SalePrice']).apply(np.log).skew()) # skewness of log transformed train SalePrice"
   ]
  },
  {
   "cell_type": "markdown",
   "metadata": {},
   "source": [
    "Without getting into too much detail, asymmetry may be undesirable as it may lead to biases in statistical models, and other reasons. Therefore we now log transform the train SalePrice column. We will predict the log of the sale prices directly (instead of the sale prices themselves). Another reason why this makes sense is because Kaggle evaluates the submissions by calculating the RMSE between the logarithm of the predicted values and the logarithm of the observed sales prices. "
   ]
  },
  {
   "cell_type": "code",
   "execution_count": 22,
   "metadata": {},
   "outputs": [
    {
     "name": "stderr",
     "output_type": "stream",
     "text": [
      "/home/tmetcalfe/Documents/machine-learning/anaconda3/envs/house-prices-tensorflow/lib/python3.7/site-packages/ipykernel_launcher.py:1: SettingWithCopyWarning: \n",
      "A value is trying to be set on a copy of a slice from a DataFrame.\n",
      "Try using .loc[row_indexer,col_indexer] = value instead\n",
      "\n",
      "See the caveats in the documentation: https://pandas.pydata.org/pandas-docs/stable/user_guide/indexing.html#returning-a-view-versus-a-copy\n",
      "  \"\"\"Entry point for launching an IPython kernel.\n"
     ]
    }
   ],
   "source": [
    "train_sale_price['SalePrice'] = train_sale_price['SalePrice'].apply(np.log) # log transform train salePrice"
   ]
  },
  {
   "cell_type": "markdown",
   "metadata": {},
   "source": [
    "numerical features can also be examined for asymmetry and transformed where appropriate. log transformations cannot be used directly for features which have 0 values (for example, GarageArea is 0 when there is no garage). In that case you might try a box cox transformation. We leave this for now."
   ]
  },
  {
   "cell_type": "markdown",
   "metadata": {},
   "source": [
    "**Step 5: Normalise the numerical features and salePrice**\n",
    "\n",
    "All numerical values in the datasets are non-negative. We now scale/normalise all numerical train columns so that the biggest value in each column is 1. Note, this is a linear transformation of the columns, and so theoretically it will not effect the linear regression models we will soon see. Computationally, there may be some effect because of errors in calculations due to excessively large numbers which may or may not occur depending on the scaling. Normalisation should theoretically have a positive impact when we look at DNNs."
   ]
  },
  {
   "cell_type": "code",
   "execution_count": 23,
   "metadata": {},
   "outputs": [
    {
     "name": "stderr",
     "output_type": "stream",
     "text": [
      "/home/tmetcalfe/Documents/machine-learning/anaconda3/envs/house-prices-tensorflow/lib/python3.7/site-packages/ipykernel_launcher.py:11: SettingWithCopyWarning: \n",
      "A value is trying to be set on a copy of a slice from a DataFrame.\n",
      "Try using .loc[row_indexer,col_indexer] = value instead\n",
      "\n",
      "See the caveats in the documentation: https://pandas.pydata.org/pandas-docs/stable/user_guide/indexing.html#returning-a-view-versus-a-copy\n",
      "  # This is added back by InteractiveShellApp.init_path()\n"
     ]
    }
   ],
   "source": [
    "from sklearn.preprocessing import MinMaxScaler # Import a scaler\n",
    "\n",
    "numerical_train_feature_array = np.array(train[numerical_features_columns]) # A simple array with only the numerical train features\n",
    "feature_scaler = MinMaxScaler() # Initialise scaler\n",
    "feature_scaler.fit(numerical_train_feature_array) # Fit scaler to array\n",
    "train[numerical_features_columns] = pd.DataFrame(feature_scaler.transform(numerical_train_feature_array), columns = numerical_features_columns) # Replace train numerical columns with the scaled values\n",
    "\n",
    "train_saleprice_array = np.array(train_sale_price) # A simple array with only the train SalePrice\n",
    "salePrice_scaler = MinMaxScaler() # Initialise scaler\n",
    "salePrice_scaler.fit(train_saleprice_array) # Fit scaler to array\n",
    "train_sale_price['SalePrice'] = pd.DataFrame(salePrice_scaler.transform(train_saleprice_array), columns = ['SalePrice']) # Replace SalePrice column with the scaled values"
   ]
  },
  {
   "cell_type": "markdown",
   "metadata": {},
   "source": [
    "Let us again check the distribution of the salePrice column to see the effect of the above scaling."
   ]
  },
  {
   "cell_type": "code",
   "execution_count": 26,
   "metadata": {},
   "outputs": [
    {
     "data": {
      "text/plain": [
       "<matplotlib.axes._subplots.AxesSubplot at 0x7fa62ce47850>"
      ]
     },
     "execution_count": 26,
     "metadata": {},
     "output_type": "execute_result"
    },
    {
     "data": {
      "image/png": "[encoded data removed]",
      "text/plain": [
       "<Figure size 432x288 with 1 Axes>"
      ]
     },
     "metadata": {
      "needs_background": "light"
     },
     "output_type": "display_data"
    }
   ],
   "source": [
    "sns.distplot(train_sale_price['SalePrice']) # distribution plot of train SalePrice"
   ]
  },
  {
   "cell_type": "markdown",
   "metadata": {},
   "source": [
    "The distribution is similar to before (see previous distribution plot above), except now all values are between 0 and 1 as expected.\n",
    "\n",
    "We finally also scale the numerical test columns using the feature scaler."
   ]
  },
  {
   "cell_type": "code",
   "execution_count": 24,
   "metadata": {},
   "outputs": [],
   "source": [
    "numerical_test_feature_array = np.array(test[numerical_features_columns]) # A simple matrix with only the numerical test features\n",
    "test[numerical_features_columns] = pd.DataFrame(feature_scaler.transform(numerical_test_feature_array), columns = numerical_features_columns) # Replace test numerical columns with the scaled values"
   ]
  },
  {
   "cell_type": "markdown",
   "metadata": {},
   "source": [
    "We are now done with out basic data preprocessing and can begin modeling."
   ]
  },
  {
   "cell_type": "code",
   "execution_count": null,
   "metadata": {},
   "outputs": [],
   "source": []
  }
 ],
 "metadata": {
  "kernelspec": {
   "display_name": "Python 3",
   "language": "python",
   "name": "python3"
  },
  "language_info": {
   "codemirror_mode": {
    "name": "ipython",
    "version": 3
   },
   "file_extension": ".py",
   "mimetype": "text/x-python",
   "name": "python",
   "nbconvert_exporter": "python",
   "pygments_lexer": "ipython3",
   "version": "3.7.6"
  }
 },
 "nbformat": 4,
 "nbformat_minor": 4
}
